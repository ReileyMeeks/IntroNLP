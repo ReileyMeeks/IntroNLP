{
 "cells": [
  {
   "cell_type": "markdown",
   "metadata": {},
   "source": [
    "# Python Exercises\n",
    "\n",
    "In this assignment, you will write some simple functions that work with lists, strings, and text files. My solutions are between one and seven lines of code."
   ]
  },
  {
   "cell_type": "markdown",
   "metadata": {},
   "source": [
    "## Write Your Name Here: Reiley Meeks"
   ]
  },
  {
   "cell_type": "markdown",
   "metadata": {},
   "source": [
    "# <font color=\"blue\"> Submission instructions</font>\n",
    "\n",
    "1. Click the Save button at the top of the Jupyter Notebook.\n",
    "2. Please make sure to have entered your name above.\n",
    "3. Select Cell -> All Output -> Clear. This will clear all the outputs from all cells (but will keep the content of ll cells). \n",
    "4. Select Cell -> Run All. This will run all the cells in order, and will take several minutes.\n",
    "5. Once you've rerun everything, select File -> Download as -> PDF via LaTeX and download a PDF version showing the code and the output of all cells, and save it in the same folder that contains the notebook file.\n",
    "6. Look at the PDF file and make sure all your solutions are there, displayed correctly.\n",
    "7. Submit **both** your PDF and the notebook file .ipynb on Canvas.\n",
    "8. Make sure your your Canvas submission contains the correct files by downloading it after posting it on Canvas."
   ]
  },
  {
   "cell_type": "markdown",
   "metadata": {},
   "source": [
    "## Working with sequences\n",
    "\n",
    "### Simple sum\n",
    "\n",
    "Write a function <tt>mysum(l)</tt> that takes as input a list <tt>l</tt> and outputs the sum of all the elements in the list. Do not use the predefined <tt>sum()</tt> function, implement it yourself."
   ]
  },
  {
   "cell_type": "code",
   "execution_count": 95,
   "metadata": {},
   "outputs": [
    {
     "data": {
      "text/plain": [
       "45"
      ]
     },
     "execution_count": 95,
     "metadata": {},
     "output_type": "execute_result"
    }
   ],
   "source": [
    "def mysum(l):\n",
    "    result = 0 # Initialise result as 0\n",
    "    \n",
    "    #loop through l\n",
    "    for i in l:\n",
    "        result += i #add i to l\n",
    "    \n",
    "    return result\n",
    "\n",
    "# This call should return 45\n",
    "mysum(range(10))"
   ]
  },
  {
   "cell_type": "markdown",
   "metadata": {},
   "source": [
    "### Complex sum\n",
    "\n",
    "Write a function <tt>sum_list(l)</tt> that takes as input a list <tt>l</tt> and outputs another list <tt>q</tt> of the same length as <tt>l</tt> and that contains at position <tt>j</tt> the sum of all the elements from positions <tt>0, 1, ...j</tt>, meaning <tt>q[j] = l[0] + l[1] + ... + l[j]</tt>."
   ]
  },
  {
   "cell_type": "code",
   "execution_count": 96,
   "metadata": {},
   "outputs": [
    {
     "data": {
      "text/plain": [
       "[1, 6, 4, 7]"
      ]
     },
     "execution_count": 96,
     "metadata": {},
     "output_type": "execute_result"
    }
   ],
   "source": [
    "def sum_list(l):\n",
    "    q = []\n",
    "    lstLength = len(l)\n",
    "\n",
    "    for i in range(0, lstLength):\n",
    "        if len(q) == 0:\n",
    "            q.append(l[i])\n",
    "            \n",
    "        elif len(q) != 0:\n",
    "            num = q[i - 1]\n",
    "            num2 = l[i]\n",
    "            n = num + num2\n",
    "            q.append(n)\n",
    "         \n",
    "    return q\n",
    "\n",
    "# This call should return [1, 6, 4, 7]\n",
    "sum_list([1, 5, -2, 3])"
   ]
  },
  {
   "cell_type": "markdown",
   "metadata": {},
   "source": [
    "### Generic function\n",
    "\n",
    "Does your function <tt>sum_list(l)</tt> work with strings too? If not, change it so that the function works with **both** numbers and strings."
   ]
  },
  {
   "cell_type": "code",
   "execution_count": 97,
   "metadata": {},
   "outputs": [
    {
     "name": "stdout",
     "output_type": "stream",
     "text": [
      "['u', 'un', 'unc', 'uncc']\n",
      "[1, 6, 4, 7]\n"
     ]
    }
   ],
   "source": [
    "# This call should return ['u', 'un', 'unc', 'uncc']\n",
    "print(sum_list(['u', 'n', 'c', 'c']))\n",
    "\n",
    "# This call should return [1, 6, 4, 7]\n",
    "print(sum_list([1, 5, -2, 3]))"
   ]
  },
  {
   "cell_type": "markdown",
   "metadata": {},
   "source": [
    "### Bonus points: One liner\n",
    "\n",
    "Define a function <tt>sum_elements(l1, l2)</tt> that adds the two lists given as arguments, element-wise. Assume the two lists have the same length. You should do this with only one line of code.\n",
    "\n",
    "*Hint: use list comprehensions.*"
   ]
  },
  {
   "cell_type": "code",
   "execution_count": 98,
   "metadata": {},
   "outputs": [
    {
     "data": {
      "text/plain": [
       "[3, 5, 7, 9]"
      ]
     },
     "execution_count": 98,
     "metadata": {},
     "output_type": "execute_result"
    }
   ],
   "source": [
    "def sum_elements(l1, l2):\n",
    "    merged = [l1[i] + l2[i] for i in range(len(l1))]\n",
    "    return merged\n",
    "\n",
    "# This call should return [3, 5, 7, 9].\n",
    "sum_elements([1, 2, 3, 4], [2, 3, 4, 5])"
   ]
  },
  {
   "cell_type": "markdown",
   "metadata": {},
   "source": [
    "## Working with strings\n",
    "\n",
    "### Lines and tokens\n",
    "\n",
    "Write a function <tt>stats(s)</tt> that returns in a tuple the number of lines and the number of tokens in an input string <tt>s</tt>. For this exercise, we consider that a token is any maximal string that does not contain white spaces such as ' ', tabs, or newlines.\n",
    "\n",
    "*Hint: you can use the string methods <tt>splitlines()</tt> and <tt>split()</tt>*."
   ]
  },
  {
   "cell_type": "code",
   "execution_count": 99,
   "metadata": {},
   "outputs": [
    {
     "name": "stdout",
     "output_type": "stream",
     "text": [
      "There's a passage in the Principia Discordia where Malaclypse complains to the Goddess about the evils of human society. \"Everyone is hurting each other, the planet is rampant with injustices, whole societies plunder groups of their own people, mothers imprison sons, children perish while brothers war.\"\n",
      "\n",
      "The Goddess answers: \"What is the matter with that, if it's what you want to do?\"\n",
      "\n",
      "Malaclypse: \"But nobody wants it! Everybody hates it!\"\n",
      "\n",
      "Goddess: \"Oh. Well, then stop.\"\n",
      "https://slatestarcodex.com/2014/07/30/meditations-on-moloch/\n",
      "linesTup of class:  <class 'tuple'>\n",
      "tokenTup of class:  <class 'tuple'>\n",
      "\n",
      "There are 8 lines and 76 tokens.\n"
     ]
    }
   ],
   "source": [
    "def stats(s):\n",
    "    clines, ctokens = 0, 0\n",
    "    \n",
    "    #Creates tuple data\n",
    "    linesTup = (len(s.splitlines()), )\n",
    "    tokenTup = (len(s.split()), )\n",
    "    \n",
    "    #Gets data to avoid printing entire data stored\n",
    "    clines = linesTup[0]\n",
    "    ctokens = tokenTup[0]\n",
    "    \n",
    "    #Check if tuples\n",
    "    print(\"linesTup of class: \", type(linesTup))\n",
    "    print(\"tokenTup of class: \", type(tokenTup))\n",
    "    \n",
    "    \n",
    "    return clines, ctokens\n",
    "\n",
    "# Note how strings can be written on multiple lines in Python code.\n",
    "s = 'There\\'s a passage in the Principia Discordia where Malaclypse complains to the Goddess ' \\\n",
    "    'about the evils of human society. \"Everyone is hurting each other, the planet is rampant ' \\\n",
    "    'with injustices, whole societies plunder groups of their own people, mothers imprison sons, ' \\\n",
    "    'children perish while brothers war.\"\\n' \\\n",
    "    '\\n' \\\n",
    "    'The Goddess answers: \"What is the matter with that, if it\\'s what you want to do?\"\\n' \\\n",
    "    '\\n' \\\n",
    "    'Malaclypse: \"But nobody wants it! Everybody hates it!\"\\n' \\\n",
    "    '\\n' \\\n",
    "    'Goddess: \"Oh. Well, then stop.\"\\n' \\\n",
    "    'https://slatestarcodex.com/2014/07/30/meditations-on-moloch/'\n",
    "\n",
    "# This will display the string value.\n",
    "print(s)\n",
    "\n",
    "# This should display 8 lines and 76 tokens.\n",
    "lines, tokens = stats(s)\n",
    "print()\n",
    "print('There are', lines, 'lines and', tokens, 'tokens.')"
   ]
  },
  {
   "cell_type": "markdown",
   "metadata": {},
   "source": [
    "### Character substitutions\n",
    "\n",
    "Write a function <tt>letterize(s)</tt> that takes as input a string <tt>s</tt> and returns another string that is a copy of <tt>s</tt> where all non-alphabet characters are replaced with the whitespace character ' '.\n",
    "\n",
    "*Hint: you can use the string methods <tt>isalpha()</tt>*."
   ]
  },
  {
   "cell_type": "code",
   "execution_count": 100,
   "metadata": {},
   "outputs": [
    {
     "name": "stdout",
     "output_type": "stream",
     "text": [
      "There's a passage in the Principia Discordia where Malaclypse complains to the Goddess about the evils of human society. \"Everyone is hurting each other, the planet is rampant with injustices, whole societies plunder groups of their own people, mothers imprison sons, children perish while brothers war.\"\n",
      "\n",
      "The Goddess answers: \"What is the matter with that, if it's what you want to do?\"\n",
      "\n",
      "Malaclypse: \"But nobody wants it! Everybody hates it!\"\n",
      "\n",
      "Goddess: \"Oh. Well, then stop.\"\n",
      "https://slatestarcodex.com/2014/07/30/meditations-on-moloch/\n",
      "537\n"
     ]
    }
   ],
   "source": [
    "def letterize(s):\n",
    "    result = ''\n",
    "    \n",
    "    result = s\n",
    "    \n",
    "    for char in result:\n",
    "        if char.isalpha() == False:\n",
    "            result.replace(char, '')\n",
    "    \n",
    "    return result\n",
    "\n",
    "r = letterize(s)\n",
    "print(r)\n",
    "\n",
    "# The length of the result should be 537.\n",
    "print(len(r))"
   ]
  },
  {
   "cell_type": "markdown",
   "metadata": {},
   "source": [
    "### Token substitutions\n",
    "\n",
    "Write a function <tt>substitute(text, source, target)</tt> that replaces each occurrence of the <tt>source</tt> string in <tt>text</tt> with the <tt>target</tt> string and returns the result."
   ]
  },
  {
   "cell_type": "code",
   "execution_count": 101,
   "metadata": {},
   "outputs": [
    {
     "name": "stdout",
     "output_type": "stream",
     "text": [
      "There's a passage in the Principia Discordia where Mazikeen complains to the Goddess about the evils of human society. \"Everyone is hurting each other, the planet is rampant with injustices, whole societies plunder groups of their own people, mothers imprison sons, children perish while brothers war.\"\n",
      "\n",
      "The Goddess answers: \"What is the matter with that, if it's what you want to do?\"\n",
      "\n",
      "Mazikeen: \"But nobody wants it! Everybody hates it!\"\n",
      "\n",
      "Goddess: \"Oh. Well, then stop.\"\n",
      "\n"
     ]
    }
   ],
   "source": [
    "def substitute(text, source, target):\n",
    "    result = ''\n",
    "    \n",
    "    result = text.replace(source, target)\n",
    "\n",
    "    \n",
    "    return result\n",
    "\n",
    "# Note how strings can be written on multiple lines in Python code.\n",
    "text = 'There\\'s a passage in the Principia Discordia where Malaclypse complains to the Goddess ' \\\n",
    "        'about the evils of human society. \"Everyone is hurting each other, the planet is rampant ' \\\n",
    "        'with injustices, whole societies plunder groups of their own people, mothers imprison sons, ' \\\n",
    "        'children perish while brothers war.\"\\n' \\\n",
    "        '\\n' \\\n",
    "        'The Goddess answers: \"What is the matter with that, if it\\'s what you want to do?\"\\n' \\\n",
    "        '\\n' \\\n",
    "        'Malaclypse: \"But nobody wants it! Everybody hates it!\"\\n' \\\n",
    "        '\\n' \\\n",
    "        'Goddess: \"Oh. Well, then stop.\"\\n'\n",
    "print(substitute(text, 'Malaclypse', 'Mazikeen'))"
   ]
  },
  {
   "cell_type": "markdown",
   "metadata": {},
   "source": [
    "### Swapping tokens\n",
    "\n",
    "Write a function <tt>swap(text, source, target)</tt> that replaces each occurrence of the <tt>source</tt> string in <tt>text</tt> with the <tt>target</tt> string and each <tt>target</tt> string with the <tt>source</tt> string."
   ]
  },
  {
   "cell_type": "code",
   "execution_count": 102,
   "metadata": {},
   "outputs": [
    {
     "name": "stdout",
     "output_type": "stream",
     "text": [
      "There's a passage in the Principia Discordia where Goddess complains to the Malaclypse about the evils of human society. \"Everyone is hurting each other, the planet is rampant with injustices, whole societies plunder groups of their own people, mothers imprison sons, children perish while brothers war.\"\n",
      "\n",
      "The Malaclypse answers: \"What is the matter with that, if it's what you want to do?\"\n",
      "\n",
      "Goddess: \"But nobody wants it! Everybody hates it!\"\n",
      "\n",
      "Malaclypse: \"Oh. Well, then stop.\"\n",
      "\n"
     ]
    }
   ],
   "source": [
    "def swap(text, source, target):\n",
    "    result = ''\n",
    "    \n",
    "    tmp = \"tmpVal\"\n",
    "    \n",
    "    result = text.replace(source, tmp).replace(target, source).replace(tmp, target)\n",
    "    \n",
    "    return result\n",
    "\n",
    "# Note how strings can be written on multiple lines in Python code.\n",
    "text = 'There\\'s a passage in the Principia Discordia where Malaclypse complains to the Goddess ' \\\n",
    "        'about the evils of human society. \"Everyone is hurting each other, the planet is rampant ' \\\n",
    "        'with injustices, whole societies plunder groups of their own people, mothers imprison sons, ' \\\n",
    "        'children perish while brothers war.\"\\n' \\\n",
    "        '\\n' \\\n",
    "        'The Goddess answers: \"What is the matter with that, if it\\'s what you want to do?\"\\n' \\\n",
    "        '\\n' \\\n",
    "        'Malaclypse: \"But nobody wants it! Everybody hates it!\"\\n' \\\n",
    "        '\\n' \\\n",
    "        'Goddess: \"Oh. Well, then stop.\"\\n'\n",
    "print(swap(text, 'Malaclypse', 'Goddess'))"
   ]
  },
  {
   "cell_type": "markdown",
   "metadata": {},
   "source": [
    "## Working with text files\n",
    "\n",
    "### Lines and paragraphs\n",
    "\n",
    "Write a function <tt>text_stats(fname)</tt> that read a text file **line by line** and returns a tuple containing the following elements:<br>\n",
    "\n",
    "1. The total number of *lines* in the file.<br>\n",
    "\n",
    "2. The total number of *text lines* in the file.<br>\n",
    "\n",
    "  * A *text line* is defined as a line that contains at least one non white space character. For example, a line that contains two white spaces followed by a tab character is not considered a text line.<br>\n",
    "\n",
    "  * An *empty line* is a line that is not a text line.<br>\n",
    "\n",
    "3. The total number of *text paragraphs* in the file.<br>\n",
    "  \n",
    "  * A *text paragraph* is a maximal sequence of text lines. Thus, a text paragraph (a) must be preceded by an empty line or the beginning of the file, (b) must be followed by an empty line or the end of the file, and (c) must not contain any empty lines."
   ]
  },
  {
   "cell_type": "code",
   "execution_count": 103,
   "metadata": {},
   "outputs": [
    {
     "name": "stdout",
     "output_type": "stream",
     "text": [
      "(26, 10, 6)\n"
     ]
    }
   ],
   "source": [
    "def text_stats(fname):\n",
    "    nFile = open(fname, \"r\")\n",
    "    fStore = nFile.readlines() #Store the red file\n",
    "    \n",
    "    #Lines including white space\n",
    "    numLines = len(fStore)\n",
    "    \n",
    "    #Exlude white space\n",
    "    bLines = 0\n",
    "    textLines = 0 \n",
    "    for lines in fStore:\n",
    "        if lines.strip():\n",
    "            bLines += 1\n",
    "    textLines = numLines - bLines\n",
    "    \n",
    "    #Number of paragraphs\n",
    "    isEmpty = True\n",
    "    parCount = 0\n",
    "    for par in fStore:\n",
    "        if '\\n' in par:\n",
    "            if len(par) < 2:\n",
    "                isEmpty = True\n",
    "            elif len(par) > 2 and isEmpty is True:\n",
    "                parCount += 1\n",
    "                isEmpty = False\n",
    "    \n",
    "    #Create tuple store\n",
    "    finalVals = (numLines, textLines, parCount)\n",
    "    \n",
    "    \n",
    "    return finalVals\n",
    "\n",
    "# This call should return a tuple that specifies 6 paragraphs.\n",
    "print(text_stats('../data/colorless.txt'))"
   ]
  },
  {
   "cell_type": "markdown",
   "metadata": {},
   "source": [
    "## Bonus points ##\n",
    "\n",
    "Write a function <tt>flatten(l)</tt> that takes as input a *deep* list that may contain other lists that may contain other lists ... and returns a *shallow* list that contains just the atmoic elements of the original list.\n"
   ]
  },
  {
   "cell_type": "code",
   "execution_count": 104,
   "metadata": {},
   "outputs": [
    {
     "name": "stdout",
     "output_type": "stream",
     "text": [
      "[1, 2, 3, 4, 5, 6, 7, 8, 9, 10, 11, 12]\n"
     ]
    }
   ],
   "source": [
    "from collections.abc import Iterable\n",
    "def flatten(l):\n",
    "    result = []\n",
    "    \n",
    "    result = list([a for i in l for a in flatten(i)] \n",
    "                  if isinstance(l, Iterable) else [l])\n",
    "\n",
    "    return result\n",
    "\n",
    "l = [1, [2, 3], [4, [5, 6, [7, [8, 9]]], 10], 11, 12]\n",
    "\n",
    "# This call should print [1, 2, 3, 4, 5, 6, 7, 8, 9, 10, 11, 12]\n",
    "print(flatten(l))"
   ]
  },
  {
   "cell_type": "code",
   "execution_count": null,
   "metadata": {},
   "outputs": [],
   "source": []
  }
 ],
 "metadata": {
  "kernelspec": {
   "display_name": "Python 3 (ipykernel)",
   "language": "python",
   "name": "python3"
  },
  "language_info": {
   "codemirror_mode": {
    "name": "ipython",
    "version": 3
   },
   "file_extension": ".py",
   "mimetype": "text/x-python",
   "name": "python",
   "nbconvert_exporter": "python",
   "pygments_lexer": "ipython3",
   "version": "3.9.7"
  }
 },
 "nbformat": 4,
 "nbformat_minor": 4
}
